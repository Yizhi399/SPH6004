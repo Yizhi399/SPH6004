{
  "cells": [
    {
      "cell_type": "markdown",
      "metadata": {
        "id": "TtmAD8B0sYXO"
      },
      "source": [
        "## Outline\n",
        "1. Loading and cleaning\n",
        "    * clustering ethnicity and aki\n",
        "    * remove outliers\n",
        "    * should I remove features with too many missing values?\n",
        "2. Splitting into training and testing\n",
        "3. Standardization\n",
        "4. Imputation for regression and SVM\n",
        "    * Median\n",
        "    * KNN\n",
        "    * MICE\n",
        "5. Oversampling (skip)\n",
        "6. Feature selection\n",
        "    * L1 regularization\n",
        "    * step forward / backward\n",
        "    * genetic algorhthm\n",
        "7. Model building\n",
        "    * logistic regression\n",
        "    * SVM\n",
        "    * XGBoost\n",
        "8. Evaluation: accuracy, precision, recall, f-measure, breakeven point, sensitivity, specificity, ROC"
      ]
    },
    {
      "cell_type": "code",
      "execution_count": null,
      "metadata": {
        "colab": {
          "base_uri": "https://localhost:8080/"
        },
        "id": "GHFtmwVCsYXP",
        "outputId": "27bfdbff-74ef-4a20-80a0-29235e768e81"
      },
      "outputs": [],
      "source": [
        "! pip install xgboost"
      ]
    },
    {
      "cell_type": "code",
      "execution_count": null,
      "metadata": {
        "id": "qJ-BFVpDsYXQ"
      },
      "outputs": [],
      "source": [
        "import pandas as pd\n",
        "import numpy as np\n",
        "import torch\n",
        "import matplotlib.pyplot as plt\n",
        "from sklearn.model_selection import train_test_split, StratifiedKFold, GridSearchCV\n",
        "from sklearn import preprocessing\n",
        "from sklearn.experimental import enable_iterative_imputer\n",
        "from sklearn.impute import SimpleImputer, KNNImputer, IterativeImputer\n",
        "from sklearn.linear_model import LogisticRegression as logit\n",
        "from sklearn.feature_selection import SequentialFeatureSelector as SFS\n",
        "from sklearn.metrics import roc_curve, precision_recall_curve, RocCurveDisplay, PrecisionRecallDisplay\n",
        "from xgboost import XGBClassifier\n",
        "from sklearn.svm import SVC\n",
        "from sklearn.linear_model import LogisticRegressionCV, LogisticRegression\n",
        "from sklearn.metrics import roc_auc_score, accuracy_score, f1_score\n",
        "\n",
        "pd.set_option('display.max_columns', None)\n",
        "pd.set_option('display.max_rows', None)"
      ]
    },
    {
      "cell_type": "markdown",
      "metadata": {
        "id": "XLqnxmk1sYXQ"
      },
      "source": [
        "## Load & Clean data\n",
        "* (drop column if more than 85% missing)\n",
        "* map ethnicity to more general categories\n",
        "* map AKI stage to yes/no\n",
        "* Remove outliers"
      ]
    },
    {
      "cell_type": "code",
      "execution_count": null,
      "metadata": {
        "colab": {
          "base_uri": "https://localhost:8080/",
          "height": 261
        },
        "id": "hoCXzBelsYXQ",
        "outputId": "17de6bf5-80ba-48f8-9490-883b3ae499bb"
      },
      "outputs": [],
      "source": [
        "df = pd.read_csv('sph6004_assignment1_data.csv')\n",
        "df['aki'] = df['aki'].astype(object)\n",
        "df.head()"
      ]
    },
    {
      "cell_type": "code",
      "execution_count": null,
      "metadata": {
        "colab": {
          "base_uri": "https://localhost:8080/",
          "height": 1000
        },
        "id": "l_80np2KsYXQ",
        "outputId": "842a0f5b-dd34-4b60-efc1-e9ea87a14754"
      },
      "outputs": [],
      "source": [
        "df_datatypes = df.dtypes\n",
        "df_null_count = df.count()\n",
        "df_null_precent = round((df.shape[0] - df_null_count) / df.shape[0] * 100, 2)\n",
        "info = pd.DataFrame({'non-null count': df_null_count, 'Dtype': df_datatypes, 'null %': df_null_precent})\n",
        "info"
      ]
    },
    {
      "cell_type": "code",
      "execution_count": null,
      "metadata": {
        "colab": {
          "base_uri": "https://localhost:8080/"
        },
        "id": "Ps5pJoWssYXQ",
        "outputId": "1bc944d0-e56c-4ec9-c2c1-a93aa3594b79"
      },
      "outputs": [],
      "source": [
        "info[info['null %'] > 80].index"
      ]
    },
    {
      "cell_type": "code",
      "execution_count": null,
      "metadata": {
        "colab": {
          "base_uri": "https://localhost:8080/",
          "height": 436
        },
        "id": "xcShbhkwsYXQ",
        "outputId": "2b524422-b21a-462a-8570-b798ded07df1"
      },
      "outputs": [],
      "source": [
        "# drop if majority is missing\n",
        "def drop_missing_col(df, info, threshold):\n",
        "    missing_col = info[info['null %'] > threshold].index\n",
        "    df.drop(columns=missing_col, axis=1, inplace=True)\n",
        "    return df\n",
        "\n",
        "df = drop_missing_col(df, info, 80)\n",
        "df.shape"
      ]
    },
    {
      "cell_type": "code",
      "execution_count": null,
      "metadata": {
        "colab": {
          "base_uri": "https://localhost:8080/"
        },
        "id": "dcJwefBxsYXQ",
        "outputId": "451b1736-2d7c-4fe2-f192-8c4f41b10845"
      },
      "outputs": [],
      "source": [
        "# df['race'].unique()\n",
        "df['race'].value_counts()"
      ]
    },
    {
      "cell_type": "code",
      "execution_count": null,
      "metadata": {
        "id": "d_aA64HjsYXR"
      },
      "outputs": [],
      "source": [
        "def ethnicity_clustering(ethnicity_original):\n",
        "    if ethnicity_original.startswith('ASIAN'):\n",
        "        return 'ASIAN'\n",
        "    elif ethnicity_original.startswith('WHITE'):\n",
        "        return 'WHITE'\n",
        "    elif ethnicity_original.startswith('HISPANIC'):\n",
        "        return 'HISPANIC'\n",
        "    elif ethnicity_original.startswith('BLACK'):\n",
        "        return 'BLACK'\n",
        "    elif ethnicity_original in ['UNKNOWN', 'UNABLE TO OBTAIN', 'PATIENT DECLINED TO ANSWER']:\n",
        "        return 'UNKNOWN'\n",
        "    else:\n",
        "        return 'OTHERS'\n",
        "\n",
        "def aki_clustering(aki):\n",
        "    if aki == 0:\n",
        "        return 0\n",
        "    else:\n",
        "        return 1"
      ]
    },
    {
      "cell_type": "code",
      "execution_count": null,
      "metadata": {
        "colab": {
          "base_uri": "https://localhost:8080/"
        },
        "id": "GACbjyNlsYXR",
        "outputId": "109e9090-c448-47eb-fa16-035789c9cb95"
      },
      "outputs": [],
      "source": [
        "df['ethnicity_new'] = df.loc[:, 'race'].apply(ethnicity_clustering)\n",
        "print(df['ethnicity_new'].value_counts())\n",
        "df.drop(columns=['race'], axis=1, inplace=True)\n",
        "# X = pd.get_dummies(df, columns = ['ethnicity_new'], drop_first=False)"
      ]
    },
    {
      "cell_type": "code",
      "execution_count": null,
      "metadata": {
        "id": "KFgJ8HoMsYXR"
      },
      "outputs": [],
      "source": [
        "df['gender'] = df['gender'].astype('category').cat.codes # 0: Female; 1: Male"
      ]
    },
    {
      "cell_type": "code",
      "execution_count": null,
      "metadata": {
        "colab": {
          "base_uri": "https://localhost:8080/"
        },
        "id": "Q_CWO2U_sYXR",
        "outputId": "125eb057-7cf6-43e1-a441-804bf542b8ba"
      },
      "outputs": [],
      "source": [
        "print(df['aki'].value_counts())\n",
        "df['aki_binary'] = df.loc[:, 'aki'].apply(aki_clustering)\n",
        "print(df['aki_binary'].value_counts())\n",
        "df.drop(columns=['aki'], axis=1, inplace=True)"
      ]
    },
    {
      "cell_type": "markdown",
      "metadata": {
        "id": "Ei547uhosYXR"
      },
      "source": [
        "### Remove outliers using IQR because data are skewed"
      ]
    },
    {
      "cell_type": "code",
      "execution_count": null,
      "metadata": {
        "colab": {
          "base_uri": "https://localhost:8080/",
          "height": 320
        },
        "id": "wgFppFi5sYXR",
        "outputId": "962eca2d-2cc6-427e-b538-33a04b1538a2"
      },
      "outputs": [],
      "source": [
        "df.describe()"
      ]
    },
    {
      "cell_type": "code",
      "execution_count": null,
      "metadata": {
        "id": "Yk6DnAebsYXR"
      },
      "outputs": [],
      "source": [
        "# df1=df.select_dtypes(exclude=['object'])\n",
        "# for column in df1.iloc[:, 1:]:\n",
        "#     plt.figure()\n",
        "#     df.boxplot([column])"
      ]
    },
    {
      "cell_type": "code",
      "execution_count": null,
      "metadata": {
        "id": "WLNL4_JVsYXR",
        "outputId": "8c75386f-0a40-47c6-d7f7-5e3978342d33"
      },
      "outputs": [],
      "source": [
        "df.iloc[:, 1:].hist(bins=15, figsize=(50, 30))"
      ]
    },
    {
      "cell_type": "code",
      "execution_count": null,
      "metadata": {
        "id": "qj22fkMAsYXR"
      },
      "outputs": [],
      "source": [
        "def threshold(df, col):\n",
        "    q1 = df[col].quantile(0.25)\n",
        "    q3 = df[col].quantile(0.75)\n",
        "    iqr = q3 - q1\n",
        "    upper = q3 + 1.5*iqr\n",
        "    lower = q1 - 1.5*iqr\n",
        "    return upper, lower\n",
        "def identify_outlier(df, col):\n",
        "    upper, lower = threshold(df, col)\n",
        "    print('upper and lower limits for column {}: '.format(col), upper, lower)\n",
        "    res = (df[col] > upper) | (df[col] < lower)\n",
        "    print('total records removed for column {}: '.format(col), sum(res))\n",
        "    return res\n",
        "def remove_outlier(df):\n",
        "    cols = df.columns.to_list()\n",
        "    cols.remove('id')\n",
        "    cols.remove('aki_binary')\n",
        "    cols.remove('gender')\n",
        "    cols.remove('ethnicity_new')\n",
        "    print(cols)\n",
        "    for col in cols:\n",
        "        outlier_flag = identify_outlier(df, col)\n",
        "        df.loc[outlier_flag, col] = np.nan\n",
        "    return df\n"
      ]
    },
    {
      "cell_type": "code",
      "execution_count": null,
      "metadata": {
        "colab": {
          "base_uri": "https://localhost:8080/",
          "height": 180
        },
        "id": "XVjfv8nrsYXR",
        "outputId": "ae2391ae-2c16-4c1a-c4f3-aac65a8e6de8"
      },
      "outputs": [],
      "source": [
        "df_cleaned = remove_outlier(df)\n",
        "del df\n",
        "df_cleaned.head()\n"
      ]
    },
    {
      "cell_type": "code",
      "execution_count": null,
      "metadata": {
        "colab": {
          "base_uri": "https://localhost:8080/",
          "height": 1000
        },
        "id": "5M7vNijrsYXS",
        "outputId": "1dc9689b-3ead-4984-cdd9-2d998bf28f02"
      },
      "outputs": [],
      "source": [
        "df_cleaned.iloc[:, 1:].hist(bins=15, figsize=(50, 30))"
      ]
    },
    {
      "cell_type": "code",
      "execution_count": null,
      "metadata": {
        "id": "0eoTjIqksYXS"
      },
      "outputs": [],
      "source": [
        "# drop columns with meaningless values (all 0s)\n",
        "drop_cols = ['methemoglobin_min', 'methemoglobin_max', 'atyps_min', 'atyps_max', 'gcs_unable']\n",
        "df_cleaned.drop(columns=drop_cols, axis=1, inplace=True)"
      ]
    },
    {
      "cell_type": "markdown",
      "metadata": {
        "id": "m8CMF-uhsYXS"
      },
      "source": [
        "## Splitting into training and testing sets"
      ]
    },
    {
      "cell_type": "code",
      "execution_count": null,
      "metadata": {
        "id": "jOOr4UTIsYXS"
      },
      "outputs": [],
      "source": [
        "y = df_cleaned['aki_binary']\n",
        "X = df_cleaned.drop(columns=['id', 'aki_binary'])"
      ]
    },
    {
      "cell_type": "code",
      "execution_count": null,
      "metadata": {
        "colab": {
          "base_uri": "https://localhost:8080/",
          "height": 226
        },
        "id": "YQl2S1vysYXS",
        "outputId": "c7e5e33e-896b-4914-93dc-df176bb0cbec"
      },
      "outputs": [],
      "source": [
        "X_train, X_test, y_train, y_test = train_test_split(X, y, stratify=y)\n",
        "X_train.head()"
      ]
    },
    {
      "cell_type": "markdown",
      "metadata": {
        "id": "plrSi_YfsYXS"
      },
      "source": [
        "## Standardization"
      ]
    },
    {
      "cell_type": "code",
      "execution_count": null,
      "metadata": {
        "colab": {
          "base_uri": "https://localhost:8080/",
          "height": 226
        },
        "id": "5bnvWZgVsYXS",
        "outputId": "d141bde5-1430-4fe3-9318-6808a3e2f5b5"
      },
      "outputs": [],
      "source": [
        "numeric_cols = list(X.columns)[0:-1]\n",
        "sd = preprocessing.StandardScaler()\n",
        "X_train[numeric_cols] = sd.fit_transform(X_train[numeric_cols])\n",
        "X_test[numeric_cols] = sd.transform(X_test[numeric_cols])\n",
        "X_train.head()"
      ]
    },
    {
      "cell_type": "markdown",
      "metadata": {
        "id": "RTf-OHF2sYXS"
      },
      "source": [
        "## Imputation for logistic regression and SVM\n",
        "1. Imputation by median\n",
        "2. MICE\n",
        "3. KNN"
      ]
    },
    {
      "cell_type": "code",
      "execution_count": null,
      "metadata": {
        "id": "avnKSOb_sYXS"
      },
      "outputs": [],
      "source": [
        "imp_list = [SimpleImputer(missing_values=np.nan, strategy='median'), KNNImputer(), IterativeImputer()]\n",
        "def imp(imputer):\n",
        "    train_imp = X_train.copy()\n",
        "    test_imp = X_test.copy()\n",
        "    print('copy done')\n",
        "    train_imp.iloc[:,0:-1] = imputer.fit_transform(train_imp.iloc[:,0:-1])\n",
        "    print('impute training done')\n",
        "    test_imp.iloc[:,0:-1] = imputer.transform(test_imp.iloc[:,0:-1])\n",
        "    print('impute testing done')\n",
        "    return train_imp, test_imp"
      ]
    },
    {
      "cell_type": "code",
      "execution_count": null,
      "metadata": {
        "colab": {
          "base_uri": "https://localhost:8080/"
        },
        "id": "1IYjqBW3sYXS",
        "outputId": "5f4b6116-56e4-4085-decf-95449c4ff126"
      },
      "outputs": [],
      "source": [
        "imp_median = imp_list[0]\n",
        "X_train_median_imp, X_test_median_imp = imp(imp_median)\n",
        "# X_train_median_imp.to_csv('X_train_median_imp.csv')\n",
        "# X_test_median_imp.to_csv('X_test_median_imp.csv')\n",
        "# y_train.to_csv('y_train.csv')\n",
        "# y_test.to_csv('y_test.csv')"
      ]
    },
    {
      "cell_type": "code",
      "execution_count": null,
      "metadata": {
        "id": "uRV-frxPsYXS"
      },
      "outputs": [],
      "source": [
        "del X_train_knn_imp, X_test_knn_imp"
      ]
    },
    {
      "cell_type": "code",
      "execution_count": null,
      "metadata": {
        "id": "obVfXN9hsYXS"
      },
      "outputs": [],
      "source": [
        "imp_knn = imp_list[1]\n",
        "X_train_knn_imp, X_test_knn_imp = imp(imp_knn)"
      ]
    },
    {
      "cell_type": "code",
      "execution_count": null,
      "metadata": {
        "id": "GR9Ct52IsYXS"
      },
      "outputs": [],
      "source": [
        "X_train_knn_imp.to_csv('X_train_knn_imp.csv')\n",
        "X_test_knn_imp.to_csv('X_test_knn_imp.csv')\n",
        "y_train.to_csv('y_train.csv')\n",
        "y_test.to_csv('y_test.csv')"
      ]
    },
    {
      "cell_type": "code",
      "execution_count": null,
      "metadata": {
        "id": "cBxBQFO-sYXS"
      },
      "outputs": [],
      "source": [
        "X_train_knn_imp = pd.read_csv('X_train_knn_imp.csv', index_col=0)\n",
        "X_test_knn_imp = pd.read_csv('X_test_knn_imp.csv', index_col=0)"
      ]
    },
    {
      "cell_type": "code",
      "execution_count": null,
      "metadata": {
        "id": "Qh6q_U9NsYXS",
        "outputId": "71f2ff74-a2fa-4a16-f4dd-d6266edb3abd"
      },
      "outputs": [],
      "source": [
        "imp_mice = imp_list[2]\n",
        "X_train_mice_imp, X_test_mice_imp = imp(imp_mice)"
      ]
    },
    {
      "cell_type": "code",
      "execution_count": null,
      "metadata": {
        "id": "FnwuHh4GsYXT"
      },
      "outputs": [],
      "source": [
        "X_train_mice_imp.to_csv('X_train_mice_imp.csv')\n",
        "X_test_mice_imp.to_csv('X_test_mice_imp.csv')"
      ]
    },
    {
      "cell_type": "code",
      "execution_count": null,
      "metadata": {
        "id": "v-HhrzUusYXT"
      },
      "outputs": [],
      "source": [
        "# one-hot encoding for ethnicity\n",
        "X_train_median_imp = pd.get_dummies(X_train_median_imp, columns = ['ethnicity_new'], drop_first=False)\n",
        "X_test_median_imp = pd.get_dummies(X_test_median_imp, columns = ['ethnicity_new'], drop_first=False)\n",
        "# X_train_knn_imp = pd.get_dummies(X_train_knn_imp, columns = ['ethnicity_new'], drop_first=False)\n",
        "# X_test_knn_imp = pd.get_dummies(X_test_knn_imp, columns = ['ethnicity_new'], drop_first=False)\n",
        "# X_train_mice_imp = pd.get_dummies(X_train_mice_imp, columns = ['ethnicity_new'], drop_first=False)\n",
        "# X_test_mice_imp = pd.get_dummies(X_test_mice_imp, columns = ['ethnicity_new'], drop_first=False)"
      ]
    },
    {
      "cell_type": "markdown",
      "metadata": {
        "id": "cTfX6V-7sYXT"
      },
      "source": [
        "## Feature Selection\n",
        "1. L1 regularization for logistic regression\n",
        "2. Step forward / backward\n",
        "3. Genetic Algorithm"
      ]
    },
    {
      "cell_type": "markdown",
      "metadata": {
        "id": "OrlLnKQcsYXT"
      },
      "source": [
        "### L1 regularization of regression (elastic net)"
      ]
    },
    {
      "cell_type": "code",
      "execution_count": null,
      "metadata": {
        "id": "76hBjn6YsYXY",
        "outputId": "3a418232-d23b-408e-fb24-542c8936afed"
      },
      "outputs": [],
      "source": [
        "cv = StratifiedKFold(n_splits=3)\n",
        "enet = LogisticRegression(penalty = 'elasticnet', solver='saga', max_iter=1e5)\n",
        "enet_param_grid = {\n",
        "                'C'     : np.arange(0.5,20,step=2),\n",
        "                'l1_ratio'  :  np.arange(0,1,0.2)\n",
        "            }\n",
        "grid_search_enet = GridSearchCV(enet,\n",
        "                           enet_param_grid,\n",
        "                           scoring='roc_auc',\n",
        "                           cv = cv,\n",
        "                           return_train_score=True,\n",
        "                           n_jobs = -1,\n",
        "                           verbose=2)\n",
        "grid_search_enet.fit(X_train_median_imp,y_train)"
      ]
    },
    {
      "cell_type": "code",
      "execution_count": null,
      "metadata": {
        "id": "h3sCtwVLsYXY",
        "outputId": "ed7bbb15-ab9f-457c-ea69-ff0d98d2d32b"
      },
      "outputs": [],
      "source": [
        "print(grid_search_enet.best_estimator_)\n",
        "grid_search_enet.best_score_"
      ]
    },
    {
      "cell_type": "code",
      "execution_count": null,
      "metadata": {
        "id": "wKPqJ4SksYXY",
        "outputId": "b91f308b-f27a-40d9-dab8-447b980344f1"
      },
      "outputs": [],
      "source": [
        "y_pred = grid_search_enet.predict(X_test_median_imp)\n",
        "y_pred_proba = grid_search_enet.predict_proba(X_test_median_imp)[::,1]\n",
        "print('F1 score on test set: {:.4f}'.format(f1_score(y_test,y_pred)))\n",
        "print('AUC score on test set: {:.4f}'.format(roc_auc_score(y_test,y_pred_proba)))\n",
        "pd.crosstab(y_test,y_pred)"
      ]
    },
    {
      "cell_type": "code",
      "execution_count": null,
      "metadata": {
        "id": "UTVMvAVHsYXY",
        "outputId": "4b2aa3bc-e0ab-4fb4-acd9-70b367079557"
      },
      "outputs": [],
      "source": [
        "model_enet = grid_search_enet.best_estimator_\n",
        "model_enet.fit(X_train_median_imp, y_train)\n",
        "y_pred_train = model_enet.predict(X_train_median_imp)\n",
        "y_pred_proba_train = model_enet.predict_proba(X_train_median_imp)[::,1]\n",
        "print('F1 score on training set: {:.4f}'.format(f1_score(y_train,y_pred_train)))\n",
        "print('AUC score on training set: {:.4f}'.format(roc_auc_score(y_train,y_pred_proba_train)))\n",
        "pd.crosstab(y_test,y_pred)"
      ]
    },
    {
      "cell_type": "code",
      "execution_count": null,
      "metadata": {
        "colab": {
          "base_uri": "https://localhost:8080/"
        },
        "id": "iXVnUzITfAnN",
        "outputId": "0f139818-7e18-4087-d1df-a32a1753ad44"
      },
      "outputs": [],
      "source": [
        "model_enet = LogisticRegression(C=0.5, l1_ratio=0.8, max_iter=100000, penalty='elasticnet',\n",
        "                   solver='saga')\n",
        "model_enet.fit(X_train_median_imp, y_train)\n",
        "\n",
        "y_pred_train = model_enet.predict(X_train_median_imp)\n",
        "y_pred_proba_train = model_enet.predict_proba(X_train_median_imp)[::,1]\n",
        "print('F1 score on training set: {:.4f}'.format(f1_score(y_train,y_pred_train)))\n",
        "print('AUC score on training set: {:.4f}'.format(roc_auc_score(y_train,y_pred_proba_train)))\n",
        "print('Accuracy score on training set: {:.4f}'.format(accuracy_score(y_train,y_pred_train)))\n",
        "\n",
        "y_pred = model_enet.predict(X_test_median_imp)\n",
        "y_pred_proba = model_enet.predict_proba(X_test_median_imp)[::,1]\n",
        "print('\\nF1 score on test set: {:.4f}'.format(f1_score(y_test,y_pred)))\n",
        "print('AUC score on test set: {:.4f}'.format(roc_auc_score(y_test,y_pred_proba)))\n",
        "print('Accuracy score on test set: {:.4f}'.format(accuracy_score(y_test,y_pred)))"
      ]
    },
    {
      "cell_type": "code",
      "execution_count": null,
      "metadata": {
        "id": "BLFG_mFVsYXY",
        "outputId": "d71c9304-84f9-4896-d36a-69504b541bec"
      },
      "outputs": [],
      "source": [
        "\n",
        "auc_plot = RocCurveDisplay.from_estimator(grid_search_enet, X_test_median_imp, y_test)\n",
        "\n",
        "# precision, recall, _ = precision_recall_curve(y_test, y_pred)\n",
        "pr_plot = PrecisionRecallDisplay.from_estimator(grid_search_enet, X_test_median_imp, y_test)\n",
        "plt.show()"
      ]
    },
    {
      "cell_type": "code",
      "execution_count": null,
      "metadata": {
        "id": "m7wGSgh2sYXY"
      },
      "outputs": [],
      "source": [
        "enet_coef = pd.DataFrame({'column names': X_train_median_imp.columns, 'coef': model_enet.coef_[0]})\n",
        "enet_coef.sort_values(by=['coef'], ascending=False, inplace=True, key=abs)\n",
        "enet_coef"
      ]
    },
    {
      "cell_type": "code",
      "execution_count": null,
      "metadata": {
        "id": "PO5mEAc4sYXY",
        "outputId": "3a9949a7-389e-43d7-fa0c-f6f9e0b13fdc"
      },
      "outputs": [],
      "source": [
        "coef_plot = enet_coef.boxplot()\n",
        "plt.title('Coefficient Distribution of Elastic Net Model')"
      ]
    },
    {
      "cell_type": "markdown",
      "metadata": {
        "id": "TF0nAHgMsYXZ"
      },
      "source": [
        "### Genetic regression"
      ]
    },
    {
      "cell_type": "markdown",
      "metadata": {
        "id": "6fNnnGARsYXZ"
      },
      "source": [
        "Logistic regression"
      ]
    },
    {
      "cell_type": "code",
      "execution_count": null,
      "metadata": {
        "colab": {
          "base_uri": "https://localhost:8080/"
        },
        "id": "CW60EjoOwRSD",
        "outputId": "0e6d03ae-c8af-476a-94b2-0e7d32593191"
      },
      "outputs": [],
      "source": [
        "! pip install sklearn_genetic"
      ]
    },
    {
      "cell_type": "code",
      "execution_count": null,
      "metadata": {
        "colab": {
          "base_uri": "https://localhost:8080/"
        },
        "id": "jWeLH13PsYXZ",
        "outputId": "ef7b9ca0-c67f-4c26-97a8-9c53a9a7705f"
      },
      "outputs": [],
      "source": [
        "from genetic_selection import GeneticSelectionCV\n",
        "\n",
        "estimator = LogisticRegression(max_iter=int(1e5))\n",
        "\n",
        "selector = GeneticSelectionCV(\n",
        "    estimator,\n",
        "    cv=3,\n",
        "    verbose=1,\n",
        "    scoring=\"roc_auc\",\n",
        "    max_features=100,\n",
        "    n_population=50,\n",
        "    crossover_proba=0.5,\n",
        "    mutation_proba=0.2,\n",
        "    n_generations=50,\n",
        "    crossover_independent_proba=0.5,\n",
        "    mutation_independent_proba=0.04,\n",
        "    tournament_size=3,\n",
        "    n_gen_no_change=10,\n",
        "    caching=True,\n",
        "    n_jobs=-1,\n",
        ")\n",
        "selector = selector.fit(X_train_median_imp, y_train)"
      ]
    },
    {
      "cell_type": "code",
      "execution_count": null,
      "metadata": {
        "colab": {
          "base_uri": "https://localhost:8080/"
        },
        "id": "Gnpi7zTMsYXZ",
        "outputId": "e908b2aa-349a-4c50-f52c-ad1d15e35527"
      },
      "outputs": [],
      "source": [
        "print(selector.support_)\n",
        "print(selector.n_features_)\n",
        "print(selector.generation_scores_)"
      ]
    },
    {
      "cell_type": "code",
      "execution_count": null,
      "metadata": {
        "colab": {
          "base_uri": "https://localhost:8080/"
        },
        "id": "RkbKfETNsYXZ",
        "outputId": "41160627-f9cc-4c63-caa0-1bc3d3114243"
      },
      "outputs": [],
      "source": [
        "print('train AUC:', selector.score(X_train_median_imp, y_train))\n",
        "print('test AUC:', selector.score(X_test_median_imp, y_test))"
      ]
    },
    {
      "cell_type": "code",
      "execution_count": null,
      "metadata": {
        "colab": {
          "base_uri": "https://localhost:8080/",
          "height": 1000
        },
        "id": "4r_ZeCfcsYXZ",
        "outputId": "c7969195-edb2-49b3-db00-5b9ccaf14f5c"
      },
      "outputs": [],
      "source": [
        "pd.DataFrame(X_train_median_imp.columns[selector.support_])"
      ]
    },
    {
      "cell_type": "code",
      "execution_count": null,
      "metadata": {
        "colab": {
          "base_uri": "https://localhost:8080/"
        },
        "id": "w8UDfsqz0-no",
        "outputId": "b3e31aa9-f77e-40f6-ad7c-1bbcf1f39f24"
      },
      "outputs": [],
      "source": [
        "X_train_median_imp.columns[selector.support_]"
      ]
    },
    {
      "cell_type": "code",
      "execution_count": null,
      "metadata": {
        "colab": {
          "base_uri": "https://localhost:8080/",
          "height": 226
        },
        "id": "7WF2G7jAyUuv",
        "outputId": "164df4dd-e32c-4a7d-b24a-201e6c68795e"
      },
      "outputs": [],
      "source": [
        "# selected_cols = X_train_median_imp.columns[selector.support_]\n",
        "# selected_cols = ['admission_age', 'heart_rate_max', 'sbp_min', 'sbp_max', 'sbp_mean',\n",
        "#        'dbp_min', 'mbp_min', 'mbp_max', 'mbp_mean', 'resp_rate_max',\n",
        "#        'resp_rate_mean', 'temperature_min', 'temperature_max', 'spo2_min',\n",
        "#        'spo2_mean', 'glucose_max', 'lactate_max', 'aado2_calc_max',\n",
        "#        'pao2fio2ratio_min', 'baseexcess_min', 'baseexcess_max',\n",
        "#        'hemoglobin_max', 'calcium_min', 'calcium_max', 'hematocrit_max.1',\n",
        "#        'hemoglobin_min.1', 'albumin_min', 'aniongap_min', 'aniongap_max',\n",
        "#        'bicarbonate_min.1', 'bicarbonate_max.1', 'bun_min', 'bun_max',\n",
        "#        'calcium_max.1', 'chloride_max.1', 'glucose_max.2', 'potassium_max.1',\n",
        "#        'abs_lymphocytes_min', 'fibrinogen_max', 'inr_max', 'pt_min', 'ptt_max',\n",
        "#        'alp_min', 'bilirubin_total_min', 'ld_ldh_min', 'gcs_motor',\n",
        "#        'gcs_verbal', 'gcs_eyes', 'weight_admit', 'ethnicity_new_ASIAN']\n",
        "selected_cols = X_train_median_imp.columns[selector.support_].to_list()\n",
        "X_train_median_imp_selected = X_train_median_imp[selected_cols]\n",
        "X_test_median_imp_selected = X_test_median_imp[selected_cols]\n",
        "\n",
        "selected_cols2 = selected_cols[:-1] + ['ethnicity_new']\n",
        "\n",
        "# X_train_selected = X_train[selected_cols2]\n",
        "# X_test_selected = X_test[selected_cols2]\n",
        "\n",
        "X_train_median_imp_selected.head()"
      ]
    },
    {
      "cell_type": "markdown",
      "metadata": {
        "id": "texcvL84sYXZ"
      },
      "source": [
        "## Model Building & tuning\n",
        "1. Logistic regression\n",
        "2. Non-linear SVM\n",
        "3. XGBoost"
      ]
    },
    {
      "cell_type": "code",
      "execution_count": null,
      "metadata": {
        "colab": {
          "base_uri": "https://localhost:8080/",
          "height": 1000
        },
        "id": "aP-YFoGlsYXZ",
        "outputId": "e71ff996-6fae-49a6-e8dd-a90638a6741f"
      },
      "outputs": [],
      "source": [
        "# TODO: training F1 score, AUC plot for test set\n",
        "from xgboost import XGBClassifier as XGBC\n",
        "models = {\n",
        "    'Logistic_Regression': LogisticRegression(max_iter=int(1e5)),\n",
        "    'SVM_rbf':SVC(kernel='rbf', probability=True),\n",
        "    'XGBoost':XGBC()\n",
        "}\n",
        "\n",
        "stratifiedCV = StratifiedKFold(n_splits=3)\n",
        "\n",
        "\n",
        "params = {\n",
        "    'Logistic_Regression':{\n",
        "        'C':np.arange(0.5,20,step=2)\n",
        "    },\n",
        "    'XGBoost':{\n",
        "        'n_estimators':np.arange(start=2,stop=500,step=30),\n",
        "        'max_depth':np.arange(start=2,stop=6)\n",
        "    },\n",
        "    'SVM_rbf':{\n",
        "        'C':np.arange(0.5,5,step=1)\n",
        "    }\n",
        "}\n",
        "\n",
        "records = {}\n",
        "\n",
        "for model in models:\n",
        "    print(model)\n",
        "    BestParams = GridSearchCV(\n",
        "        models[model],\n",
        "        param_grid = params[model],\n",
        "        scoring='roc_auc',\n",
        "        cv=stratifiedCV,\n",
        "        n_jobs=-1,\n",
        "        verbose=1\n",
        "    )\n",
        "\n",
        "    BestParams.fit(X_train_median_imp_selected,y_train)\n",
        "    print(BestParams.best_estimator_)\n",
        "    # Xy_test[model] = BestParams.predict(X_test_median_imp).astype(str)\n",
        "    records[model] = BestParams\n",
        "    print('For {} cross validation AUC score is {:.4f}'.format(model,BestParams.best_score_))\n",
        "\n",
        "    y_pred_train = BestParams.predict(X_train_median_imp_selected)\n",
        "    y_pred_proba_train = BestParams.predict_proba(X_train_median_imp_selected)[::,1]\n",
        "    print('F1 score on training set: {:.4f}'.format(f1_score(y_train,y_pred_train)))\n",
        "    print('AUC score on training set: {:.4f}'.format(roc_auc_score(y_train,y_pred_proba_train)))\n",
        "    print('Accuracy score on training set: {:.4f}'.format(accuracy_score(y_train,y_pred_train)))\n",
        "    print(pd.crosstab(y_train,y_pred_train))\n",
        "\n",
        "    y_pred = BestParams.predict(X_test_median_imp_selected)\n",
        "    y_pred_proba = BestParams.predict_proba(X_test_median_imp_selected)[::,1]\n",
        "    print('F1 score on test set: {:.4f}'.format(f1_score(y_test,y_pred)))\n",
        "    print('AUC score on test set: {:.4f}'.format(roc_auc_score(y_test,y_pred_proba)))\n",
        "    print('Accuracy score on test set: {:.4f}'.format(accuracy_score(y_train,y_pred_train)))\n",
        "    print(pd.crosstab(y_test,y_pred))\n",
        "\n",
        "    auc_plot = RocCurveDisplay.from_estimator(BestParams, X_test_median_imp_selected, y_test)\n",
        "    pr_plot = PrecisionRecallDisplay.from_estimator(BestParams, X_test_median_imp_selected, y_test)\n",
        "    plt.show()"
      ]
    },
    {
      "cell_type": "code",
      "execution_count": null,
      "metadata": {
        "id": "GB2q5-PDWQ3j"
      },
      "outputs": [],
      "source": [
        "from IPython.display import clear_output\n",
        "\n",
        "clear_output()"
      ]
    },
    {
      "cell_type": "markdown",
      "metadata": {
        "id": "KCZf4hd6sYXZ"
      },
      "source": []
    }
  ],
  "metadata": {
    "colab": {
      "provenance": []
    },
    "kernelspec": {
      "display_name": "Python 3",
      "name": "python3"
    },
    "language_info": {
      "codemirror_mode": {
        "name": "ipython",
        "version": 3
      },
      "file_extension": ".py",
      "mimetype": "text/x-python",
      "name": "python",
      "nbconvert_exporter": "python",
      "pygments_lexer": "ipython3",
      "version": "3.10.4"
    }
  },
  "nbformat": 4,
  "nbformat_minor": 0
}
